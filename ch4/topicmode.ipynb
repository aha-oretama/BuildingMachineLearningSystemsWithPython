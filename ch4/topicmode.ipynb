{
 "cells": [
  {
   "cell_type": "markdown",
   "metadata": {},
   "source": [
    "# トピックモデル\n",
    "\n",
    "## 潜在的ディリクレ配分法（LDA＝Latent Dirichlet Allocation）\n",
    "\n",
    "なんとなく理解するのは以下のスライドがよさげ。  \n",
    "https://www.slideshare.net/kogecoo/ss-47464673\n"
   ]
  },
  {
   "cell_type": "code",
   "execution_count": 1,
   "metadata": {},
   "outputs": [
    {
     "name": "stderr",
     "output_type": "stream",
     "text": [
      "/Users/sekineyasufumi/.local/share/virtualenvs/BuildingMachineLearningSystemsWithPython-Wi63DfR9/lib/python3.6/site-packages/gensim/models/ldamodel.py:775: RuntimeWarning: divide by zero encountered in log\n",
      "  diff = np.log(self.expElogbeta)\n"
     ]
    },
    {
     "name": "stdout",
     "output_type": "stream",
     "text": [
      "[(4, 0.0111983325), (8, 0.033349235), (11, 0.040322784), (12, 0.039426032), (13, 0.0113133155), (22, 0.012744883), (25, 0.01907404), (31, 0.1923473), (32, 0.021281032), (35, 0.11376273), (42, 0.017232433), (57, 0.012519004), (59, 0.0111025935), (62, 0.07395468), (64, 0.0581933), (71, 0.07784027), (79, 0.20690653), (84, 0.029123731)]\n"
     ]
    }
   ],
   "source": [
    "from gensim import corpora, models, similarities\n",
    "corpus = corpora.BleiCorpus('./data/ap/ap.dat', './data/ap/vocab.txt')\n",
    "\n",
    "model = models.ldamodel.LdaModel(\n",
    "    corpus,\n",
    "    num_topics=100,\n",
    "    id2word=corpus.id2word\n",
    ")\n",
    "\n",
    "topics = [model[c] for c in corpus]\n",
    "print(topics[0])"
   ]
  },
  {
   "cell_type": "markdown",
   "metadata": {},
   "source": [
    "**API Reference**\n",
    "\n",
    "| API | API Reference |\n",
    "| ------------------- | ------------- |\n",
    "| corpor.BleiCorpus | https://radimrehurek.com/gensim/corpora/bleicorpus.html |\n",
    "| models.ldamodel | https://radimrehurek.com/gensim/models/ldamodel.html |"
   ]
  },
  {
   "cell_type": "markdown",
   "metadata": {},
   "source": [
    "ここでドキュメントのトピック数をグラフにしてみる。"
   ]
  },
  {
   "cell_type": "code",
   "execution_count": null,
   "metadata": {},
   "outputs": [],
   "source": [
    "%matplotlib inline\n",
    "import matplotlib.pyplot as plt\n",
    "import numpy as np\n",
    "\n",
    "num_topics_used = [len(model[doc]) for doc in corpus]\n",
    "fig,ax = plt.subplots()\n",
    "ax.hist(num_topics_used, np.arange(42))\n",
    "ax.set_ylabel('Nr of documents')\n",
    "ax.set_xlabel('Nr of topics')\n",
    "fig.tight_layout()\n",
    "fig.show()"
   ]
  },
  {
   "cell_type": "markdown",
   "metadata": {},
   "source": [
    "models.ldamodel.LdaModelのalphaを変更すれば、１文書あたりに持つトピック数を変更することができる。"
   ]
  },
  {
   "cell_type": "code",
   "execution_count": null,
   "metadata": {},
   "outputs": [],
   "source": [
    "model1 = models.ldamodel.LdaModel(\n",
    "    corpus,\n",
    "    num_topics=100,\n",
    "    id2word=corpus.id2word,\n",
    "    alpha=1\n",
    ")\n",
    "\n",
    "num_topics_used1 = [len(model1[doc]) for doc in corpus]\n",
    "\n",
    "fig,ax = plt.subplots()\n",
    "ax.hist([num_topics_used, num_topics_used1], np.arange(42))\n",
    "ax.set_ylabel('Nr of documents')\n",
    "ax.set_xlabel('Nr of topics')\n",
    "\n",
    "# The coordinates below were fit by trial and error to look good\n",
    "ax.text(9, 223, r'default alpha')\n",
    "ax.text(26, 156, 'alpha=1.0')\n",
    "fig.tight_layout()\n",
    "fig.show()"
   ]
  },
  {
   "cell_type": "code",
   "execution_count": null,
   "metadata": {},
   "outputs": [],
   "source": [
    "# work cloud として表示する\n",
    "\n",
    "from wordcloud import WordCloud\n",
    "\n",
    "def makeWordCloud(text):\n",
    "    wc = WordCloud(max_word=1000,margin=10,random_state=1).generate(text)\n",
    "    \n",
    "    plt.imshow(wc)\n",
    "\n",
    "counts = np.zeros(100)\n",
    "\n",
    "# 最も頻出するトピックを選ぶ\n",
    "for doc_topics in topics:\n",
    "    for topic_id, _ in doc_topics:\n",
    "        counts[topic_id] += 1\n",
    "topic_words = model.show_topic(counts.argmax(), 64)\n",
    "words = [e[0] for e in topic_words]\n",
    "text = \" \".join(words)\n",
    "makeWordCloud(text)"
   ]
  },
  {
   "cell_type": "code",
   "execution_count": null,
   "metadata": {},
   "outputs": [],
   "source": []
  }
 ],
 "metadata": {
  "kernelspec": {
   "display_name": "Python 3",
   "language": "python",
   "name": "python3"
  },
  "language_info": {
   "codemirror_mode": {
    "name": "ipython",
    "version": 3
   },
   "file_extension": ".py",
   "mimetype": "text/x-python",
   "name": "python",
   "nbconvert_exporter": "python",
   "pygments_lexer": "ipython3",
   "version": "3.6.5"
  }
 },
 "nbformat": 4,
 "nbformat_minor": 2
}
